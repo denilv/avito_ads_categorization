{
 "cells": [
  {
   "cell_type": "code",
   "execution_count": 18,
   "metadata": {
    "collapsed": true
   },
   "outputs": [],
   "source": [
    "import pandas as pd\n",
    "import numpy as np\n",
    "from sklearn.preprocessing import LabelEncoder"
   ]
  },
  {
   "cell_type": "code",
   "execution_count": 28,
   "metadata": {
    "scrolled": false
   },
   "outputs": [
    {
     "data": {
      "text/html": [
       "<div>\n",
       "<style>\n",
       "    .dataframe thead tr:only-child th {\n",
       "        text-align: right;\n",
       "    }\n",
       "\n",
       "    .dataframe thead th {\n",
       "        text-align: left;\n",
       "    }\n",
       "\n",
       "    .dataframe tbody tr th {\n",
       "        vertical-align: top;\n",
       "    }\n",
       "</style>\n",
       "<table border=\"1\" class=\"dataframe\">\n",
       "  <thead>\n",
       "    <tr style=\"text-align: right;\">\n",
       "      <th></th>\n",
       "      <th>category_id</th>\n",
       "      <th>name</th>\n",
       "      <th>depth</th>\n",
       "    </tr>\n",
       "  </thead>\n",
       "  <tbody>\n",
       "    <tr>\n",
       "      <th>0</th>\n",
       "      <td>0</td>\n",
       "      <td>Бытовая электроника|Телефоны|iPhone</td>\n",
       "      <td>3</td>\n",
       "    </tr>\n",
       "    <tr>\n",
       "      <th>1</th>\n",
       "      <td>1</td>\n",
       "      <td>Бытовая электроника|Ноутбуки</td>\n",
       "      <td>2</td>\n",
       "    </tr>\n",
       "    <tr>\n",
       "      <th>2</th>\n",
       "      <td>2</td>\n",
       "      <td>Бытовая электроника|Телефоны|Samsung</td>\n",
       "      <td>3</td>\n",
       "    </tr>\n",
       "    <tr>\n",
       "      <th>3</th>\n",
       "      <td>3</td>\n",
       "      <td>Бытовая электроника|Планшеты и электронные кни...</td>\n",
       "      <td>3</td>\n",
       "    </tr>\n",
       "    <tr>\n",
       "      <th>4</th>\n",
       "      <td>4</td>\n",
       "      <td>Бытовая электроника|Игры, приставки и программ...</td>\n",
       "      <td>3</td>\n",
       "    </tr>\n",
       "  </tbody>\n",
       "</table>\n",
       "</div>"
      ],
      "text/plain": [
       "   category_id                                               name  depth\n",
       "0            0                Бытовая электроника|Телефоны|iPhone      3\n",
       "1            1                       Бытовая электроника|Ноутбуки      2\n",
       "2            2               Бытовая электроника|Телефоны|Samsung      3\n",
       "3            3  Бытовая электроника|Планшеты и электронные кни...      3\n",
       "4            4  Бытовая электроника|Игры, приставки и программ...      3"
      ]
     },
     "execution_count": 28,
     "metadata": {},
     "output_type": "execute_result"
    }
   ],
   "source": [
    "# load dataframe\n",
    "cats = pd.read_csv('data/category.csv')\n",
    "# calculate categories depths\n",
    "depths = [len(i.split('|')) for i in cats.name]\n",
    "# add depth column\n",
    "cats = cats.assign(depth=depths)\n",
    "cats.head()"
   ]
  },
  {
   "cell_type": "code",
   "execution_count": 29,
   "metadata": {},
   "outputs": [
    {
     "data": {
      "text/plain": [
       "{2, 3, 4}"
      ]
     },
     "execution_count": 29,
     "metadata": {},
     "output_type": "execute_result"
    }
   ],
   "source": [
    "# depths of categories\n",
    "set(depths)"
   ]
  },
  {
   "cell_type": "code",
   "execution_count": 30,
   "metadata": {},
   "outputs": [
    {
     "data": {
      "text/html": [
       "<div>\n",
       "<style>\n",
       "    .dataframe thead tr:only-child th {\n",
       "        text-align: right;\n",
       "    }\n",
       "\n",
       "    .dataframe thead th {\n",
       "        text-align: left;\n",
       "    }\n",
       "\n",
       "    .dataframe tbody tr th {\n",
       "        vertical-align: top;\n",
       "    }\n",
       "</style>\n",
       "<table border=\"1\" class=\"dataframe\">\n",
       "  <thead>\n",
       "    <tr style=\"text-align: right;\">\n",
       "      <th></th>\n",
       "      <th>category_id</th>\n",
       "      <th>name</th>\n",
       "      <th>depth</th>\n",
       "      <th>lvl0_label</th>\n",
       "      <th>lvl1_label</th>\n",
       "      <th>lvl2_label</th>\n",
       "      <th>lvl3_label</th>\n",
       "    </tr>\n",
       "  </thead>\n",
       "  <tbody>\n",
       "    <tr>\n",
       "      <th>0</th>\n",
       "      <td>0</td>\n",
       "      <td>Бытовая электроника|Телефоны|iPhone</td>\n",
       "      <td>3</td>\n",
       "      <td>0</td>\n",
       "      <td>19</td>\n",
       "      <td>4</td>\n",
       "      <td>0</td>\n",
       "    </tr>\n",
       "    <tr>\n",
       "      <th>1</th>\n",
       "      <td>1</td>\n",
       "      <td>Бытовая электроника|Ноутбуки</td>\n",
       "      <td>2</td>\n",
       "      <td>0</td>\n",
       "      <td>11</td>\n",
       "      <td>0</td>\n",
       "      <td>0</td>\n",
       "    </tr>\n",
       "    <tr>\n",
       "      <th>2</th>\n",
       "      <td>2</td>\n",
       "      <td>Бытовая электроника|Телефоны|Samsung</td>\n",
       "      <td>3</td>\n",
       "      <td>0</td>\n",
       "      <td>19</td>\n",
       "      <td>2</td>\n",
       "      <td>0</td>\n",
       "    </tr>\n",
       "    <tr>\n",
       "      <th>3</th>\n",
       "      <td>3</td>\n",
       "      <td>Бытовая электроника|Планшеты и электронные кни...</td>\n",
       "      <td>3</td>\n",
       "      <td>0</td>\n",
       "      <td>14</td>\n",
       "      <td>28</td>\n",
       "      <td>0</td>\n",
       "    </tr>\n",
       "    <tr>\n",
       "      <th>4</th>\n",
       "      <td>4</td>\n",
       "      <td>Бытовая электроника|Игры, приставки и программ...</td>\n",
       "      <td>3</td>\n",
       "      <td>0</td>\n",
       "      <td>4</td>\n",
       "      <td>19</td>\n",
       "      <td>0</td>\n",
       "    </tr>\n",
       "  </tbody>\n",
       "</table>\n",
       "</div>"
      ],
      "text/plain": [
       "   category_id                                               name  depth  \\\n",
       "0            0                Бытовая электроника|Телефоны|iPhone      3   \n",
       "1            1                       Бытовая электроника|Ноутбуки      2   \n",
       "2            2               Бытовая электроника|Телефоны|Samsung      3   \n",
       "3            3  Бытовая электроника|Планшеты и электронные кни...      3   \n",
       "4            4  Бытовая электроника|Игры, приставки и программ...      3   \n",
       "\n",
       "   lvl0_label  lvl1_label  lvl2_label  lvl3_label  \n",
       "0           0          19           4           0  \n",
       "1           0          11           0           0  \n",
       "2           0          19           2           0  \n",
       "3           0          14          28           0  \n",
       "4           0           4          19           0  "
      ]
     },
     "execution_count": 30,
     "metadata": {},
     "output_type": "execute_result"
    }
   ],
   "source": [
    "# get subcategories at each level\n",
    "lvl0_cats = []\n",
    "lvl1_cats = []\n",
    "lvl2_cats = []\n",
    "lvl3_cats = []\n",
    "for name in cats.name:\n",
    "    splt = name.split('|')\n",
    "    lvl0_cats.append(splt[0])\n",
    "    lvl1_cats.append(splt[1])\n",
    "    if len(splt) > 2:\n",
    "        lvl2_cats.append(splt[2])\n",
    "    else:\n",
    "        lvl2_cats.append(-1)\n",
    "    if len(splt) > 3:\n",
    "        lvl3_cats.append(splt[3])\n",
    "    else:\n",
    "        lvl3_cats.append(-1)\n",
    "\n",
    "# enumerate every label at each level\n",
    "cats = cats.assign(lvl0_label=LabelEncoder().fit_transform(lvl0_cats))\n",
    "cats = cats.assign(lvl1_label=LabelEncoder().fit_transform(lvl1_cats))\n",
    "cats = cats.assign(lvl2_label=LabelEncoder().fit_transform(lvl2_cats))\n",
    "cats = cats.assign(lvl3_label=LabelEncoder().fit_transform(lvl3_cats))\n",
    "# cats = cats.assign(lvl0_cat=lvl0_cats)\n",
    "# cats = cats.assign(lvl1_cat=lvl1_cats)\n",
    "# cats = cats.assign(lvl2_cat=lvl2_cats)\n",
    "# cats = cats.assign(lvl3_cat=lvl3_cats)\n",
    "cats.head()"
   ]
  },
  {
   "cell_type": "code",
   "execution_count": 33,
   "metadata": {
    "collapsed": true
   },
   "outputs": [],
   "source": [
    "cats.drop(['name'], axis=1).to_csv('new_categories.csv', index=False)"
   ]
  }
 ],
 "metadata": {
  "kernelspec": {
   "display_name": "Python 3",
   "language": "python",
   "name": "python3"
  },
  "language_info": {
   "codemirror_mode": {
    "name": "ipython",
    "version": 3
   },
   "file_extension": ".py",
   "mimetype": "text/x-python",
   "name": "python",
   "nbconvert_exporter": "python",
   "pygments_lexer": "ipython3",
   "version": "3.6.1"
  }
 },
 "nbformat": 4,
 "nbformat_minor": 2
}
